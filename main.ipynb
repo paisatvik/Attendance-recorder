{
 "cells": [
  {
   "cell_type": "code",
   "execution_count": 3,
   "id": "f09171ac",
   "metadata": {},
   "outputs": [],
   "source": [
    "import cv2\n",
    "import pandas as pd\n",
    "import datetime"
   ]
  },
  {
   "cell_type": "code",
   "execution_count": 4,
   "id": "c171de83",
   "metadata": {
    "scrolled": false
   },
   "outputs": [
    {
     "name": "stderr",
     "output_type": "stream",
     "text": [
      "C:\\Users\\paisa\\AppData\\Local\\Temp\\ipykernel_29296\\887018697.py:33: FutureWarning: The frame.append method is deprecated and will be removed from pandas in a future version. Use pandas.concat instead.\n",
      "  df = df.append({'Name': name, 'In_Time': in_time, 'Out_Time': None, 'Date': date}, ignore_index=True)\n"
     ]
    }
   ],
   "source": [
    "# Load the cascades\n",
    "face_cascade = cv2.CascadeClassifier(r\"C:\\Users\\paisa\\OneDrive\\Desktop\\opencv\\haar_face.xml\")\n",
    "\n",
    "# Initialize recognizer\n",
    "recognizer = cv2.face.LBPHFaceRecognizer_create()\n",
    "recognizer.read(r'face-trainer.yml')\n",
    "\n",
    "# Initialize dataframe\n",
    "df = pd.DataFrame(columns=['Name', 'In_Time', 'Out_Time', 'Date'])\n",
    "\n",
    "names={1:\"satvik\",2:\"poorna\",3:\"bharat\",4:\"yashwant\"}\n",
    "\n",
    "# Define function to get face and recognize\n",
    "def recognize_face(frame, gray,df):\n",
    "    faces = face_cascade.detectMultiScale(gray, 1.3, 5)\n",
    "    for (x, y, w, h) in faces:\n",
    "        roi_gray = gray[y:y+h, x:x+w]\n",
    "        id, conf = recognizer.predict(roi_gray)\n",
    "        \n",
    "        # Check if confidence is less than 100 ==> \"0\" is perfect match \n",
    "        if conf < 100:\n",
    "            # get the name from id\n",
    "            name = names[id]\n",
    "            font = cv2.FONT_HERSHEY_SIMPLEX\n",
    "            color = (255, 0, 0)\n",
    "            stroke = 2\n",
    "            cv2.putText(frame, name, (x, y), font, 1, color, stroke, cv2.LINE_AA)\n",
    "            \n",
    "            # Record the name and time\n",
    "            now = datetime.datetime.now()\n",
    "            in_time = now.strftime(\"%H:%M:%S\")\n",
    "            date = now.strftime(\"%Y-%m-%d\")\n",
    "            df = df.append({'Name': name, 'In_Time': in_time, 'Out_Time': None, 'Date': date}, ignore_index=True)\n",
    "            df.to_csv('attendance.csv', index=False)\n",
    "            \n",
    "            # Draw the rectangle around each face\n",
    "            color = (255, 0, 0) #BGR\n",
    "            stroke = 2\n",
    "            end_cord_x = x + w\n",
    "            end_cord_y = y + h\n",
    "            cv2.rectangle(frame, (x, y), (end_cord_x, end_cord_y), color, stroke)\n",
    "    return frame,df\n",
    "\n",
    "# Start the video capture\n",
    "cap = cv2.VideoCapture(0)\n",
    "while True:\n",
    "    # Capture frame-by-frame\n",
    "    ret, frame = cap.read()\n",
    "    gray = cv2.cvtColor(frame, cv2.COLOR_BGR2GRAY)\n",
    "    canvas,df = recognize_face(frame, gray,df)\n",
    "    cv2.imshow('Video', canvas)\n",
    "    if cv2.waitKey(10):\n",
    "        break\n",
    "\n",
    "# When everything is done, release the capture\n",
    "cap.release()\n",
    "cv2.destroyAllWindows()"
   ]
  },
  {
   "cell_type": "code",
   "execution_count": 5,
   "id": "5c06d773",
   "metadata": {},
   "outputs": [
    {
     "data": {
      "text/html": [
       "<div>\n",
       "<style scoped>\n",
       "    .dataframe tbody tr th:only-of-type {\n",
       "        vertical-align: middle;\n",
       "    }\n",
       "\n",
       "    .dataframe tbody tr th {\n",
       "        vertical-align: top;\n",
       "    }\n",
       "\n",
       "    .dataframe thead th {\n",
       "        text-align: right;\n",
       "    }\n",
       "</style>\n",
       "<table border=\"1\" class=\"dataframe\">\n",
       "  <thead>\n",
       "    <tr style=\"text-align: right;\">\n",
       "      <th></th>\n",
       "      <th>Name</th>\n",
       "      <th>In_Time</th>\n",
       "      <th>Out_Time</th>\n",
       "      <th>Date</th>\n",
       "    </tr>\n",
       "  </thead>\n",
       "  <tbody>\n",
       "    <tr>\n",
       "      <th>0</th>\n",
       "      <td>satvik</td>\n",
       "      <td>12:34:25</td>\n",
       "      <td>None</td>\n",
       "      <td>2023-02-09</td>\n",
       "    </tr>\n",
       "  </tbody>\n",
       "</table>\n",
       "</div>"
      ],
      "text/plain": [
       "     Name   In_Time Out_Time        Date\n",
       "0  satvik  12:34:25     None  2023-02-09"
      ]
     },
     "execution_count": 5,
     "metadata": {},
     "output_type": "execute_result"
    }
   ],
   "source": [
    "df"
   ]
  },
  {
   "cell_type": "code",
   "execution_count": null,
   "id": "aa109466",
   "metadata": {},
   "outputs": [],
   "source": []
  },
  {
   "cell_type": "code",
   "execution_count": null,
   "id": "85f04225",
   "metadata": {},
   "outputs": [],
   "source": []
  }
 ],
 "metadata": {
  "kernelspec": {
   "display_name": "Python 3 (ipykernel)",
   "language": "python",
   "name": "python3"
  },
  "language_info": {
   "codemirror_mode": {
    "name": "ipython",
    "version": 3
   },
   "file_extension": ".py",
   "mimetype": "text/x-python",
   "name": "python",
   "nbconvert_exporter": "python",
   "pygments_lexer": "ipython3",
   "version": "3.9.13"
  }
 },
 "nbformat": 4,
 "nbformat_minor": 5
}
