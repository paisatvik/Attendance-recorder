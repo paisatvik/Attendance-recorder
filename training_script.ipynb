{
 "cells": [
  {
   "cell_type": "code",
   "execution_count": 1,
   "id": "2a01fb6d",
   "metadata": {},
   "outputs": [],
   "source": [
    "import os\n",
    "import cv2\n",
    "import numpy as np\n",
    "from PIL import Image\n",
    "\n",
    "# Load the cascades\n",
    "face_cascade = cv2.CascadeClassifier(r\"C:\\Users\\paisa\\OneDrive\\Desktop\\opencv\\haar_face.xml\")\n",
    "\n",
    "# Initialize recognizer\n",
    "recognizer = cv2.face.LBPHFaceRecognizer_create()\n",
    "\n",
    "# Define the path to the images\n",
    "root = r\"C:\\Users\\paisa\\OneDrive\\Desktop\\opencv\\person recogniser\"\n",
    "\n",
    "names = [\"satvik\",\"poorna\",\"bharat\",\"yashwant\"]\n",
    "\n",
    "k=1\n",
    "\n",
    "for name in names:\n",
    "    path = os.path.join(root,name)\n",
    "\n",
    "    # Create a list to store the images and labels\n",
    "    images = []\n",
    "\n",
    "    labels = []\n",
    "    \n",
    "    image_paths = []\n",
    "\n",
    "    # Get the list of all the images\n",
    "    image_paths = [os.path.join(path, f) for f in os.listdir(path)]\n",
    "    # Loop through the list of images\n",
    "    for image_path in image_paths:\n",
    "        # Load the image and convert it to grayscale\n",
    "        image = Image.open(image_path).convert('L')\n",
    "        # Convert the image to numpy array\n",
    "        image_np = np.array(image, 'uint8')\n",
    "        # Get the label of the image (the name of the folder the image is in)\n",
    "        label = (image_path).split(\"\\\\\")[-2]\n",
    "\n",
    "        # Detect the face in the image\n",
    "        faces = face_cascade.detectMultiScale(image_np)\n",
    "        # Loop through the faces\n",
    "        for (x, y, w, h) in faces:\n",
    "            # Add the face to the images list\n",
    "            images.append(image_np[y:y + h, x:x + w])\n",
    "            # Add the label to the labels list\n",
    "            labels.append(k)\n",
    "            \n",
    "    k = k+1    "
   ]
  },
  {
   "cell_type": "code",
   "execution_count": 3,
   "id": "295c9088",
   "metadata": {},
   "outputs": [],
   "source": [
    "# Train the model\n",
    "recognizer.train(images,np.array(labels))\n",
    "\n",
    "# Save the model to a .yml file\n",
    "recognizer.write(r'face-trainer.yml')"
   ]
  }
 ],
 "metadata": {
  "kernelspec": {
   "display_name": "Python 3 (ipykernel)",
   "language": "python",
   "name": "python3"
  },
  "language_info": {
   "codemirror_mode": {
    "name": "ipython",
    "version": 3
   },
   "file_extension": ".py",
   "mimetype": "text/x-python",
   "name": "python",
   "nbconvert_exporter": "python",
   "pygments_lexer": "ipython3",
   "version": "3.9.13"
  }
 },
 "nbformat": 4,
 "nbformat_minor": 5
}
